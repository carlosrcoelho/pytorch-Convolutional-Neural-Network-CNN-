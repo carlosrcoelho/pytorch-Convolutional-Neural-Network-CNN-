{
 "cells": [
  {
   "cell_type": "markdown",
   "metadata": {},
   "source": [
    "# Convolutional Neural Network (CNN)"
   ]
  },
  {
   "cell_type": "markdown",
   "metadata": {},
   "source": [
    "A Convolutional Neural Network (CNN) is a type of deep learning model primarily used in computer vision tasks, particularly for image recognition, object detection, and image classification.\n",
    "\n",
    "What makes CNNs powerful for image-related tasks is their ability to automatically and adaptively learn spatial hierarchies of features from the input data. They consist of multiple layers, typically including convolutional layers, pooling layers, and fully connected layers.\n",
    "\n",
    "In this part we will implement our first convolutional neural network (CNN) that can do image classification based on the famous CIFAR-10 dataset.\n",
    "\n",
    "We will learn:\n",
    "- Architecture of CNNs\n",
    "- Convolutional Filter\n",
    "- Max Pooling\n",
    "- Determine the correct layer size\n",
    "- Implement the CNN architecture in PyTorch"
   ]
  },
  {
   "cell_type": "code",
   "execution_count": 1,
   "metadata": {},
   "outputs": [],
   "source": [
    "import torch\n",
    "import torch.nn as nn\n",
    "import torch.nn.functional as F\n",
    "import torchvision\n",
    "import torchvision.transforms as transforms\n",
    "import matplotlib.pyplot as plt\n",
    "import numpy as np"
   ]
  },
  {
   "cell_type": "markdown",
   "metadata": {},
   "source": [
    "#### Device configuration"
   ]
  },
  {
   "cell_type": "code",
   "execution_count": 2,
   "metadata": {},
   "outputs": [],
   "source": [
    "# devive configuration\n",
    "\n",
    "device = torch.device('cuda' if torch.cuda.is_available() else 'cpu')"
   ]
  },
  {
   "cell_type": "markdown",
   "metadata": {},
   "source": [
    "#### Hyper-parameters"
   ]
  },
  {
   "cell_type": "code",
   "execution_count": 3,
   "metadata": {},
   "outputs": [],
   "source": [
    "# hyper parameters\n",
    "\n",
    "num_epochs = 4\n",
    "batch_size = 4\n",
    "learning_rate = 0.001"
   ]
  },
  {
   "cell_type": "markdown",
   "metadata": {},
   "source": [
    "#### Load the CIFAR-10 dataset"
   ]
  },
  {
   "cell_type": "code",
   "execution_count": 4,
   "metadata": {},
   "outputs": [],
   "source": [
    "# dataset has PILImage images of range [0, 1]   \n",
    "# we transform them to Tensors of normalized range [-1, 1]\n",
    "\n",
    "transform = transforms.Compose([\n",
    "    transforms.ToTensor(),\n",
    "    transforms.Normalize((0.5, 0.5, 0.5),(0.5, 0.5, 0.5))  # 3 channels for RGB\n",
    "])"
   ]
  },
  {
   "cell_type": "markdown",
   "metadata": {},
   "source": [
    "Explicando o código acima:\n",
    "\n",
    "1. `transforms.Compose([...])`: Isso cria uma sequência de transformações que serão aplicadas às imagens. No caso específico, estamos definindo duas transformações a serem aplicadas sequencialmente.\n",
    "\n",
    "2. `transforms.ToTensor()`: Esta transformação converte a imagem PIL (Pillow) para um tensor do PyTorch. As imagens originalmente estão no formato PIL (PILImage) e esta etapa as converte para tensores, que são a estrutura de dados usada pelo PyTorch para manipular dados.\n",
    "\n",
    "3. `transforms.Normalize((0.5, 0.5, 0.5), (0.5, 0.5, 0.5))`: Essa transformação normaliza os tensores de imagem. Aqui, há dois conjuntos de três valores cada um. O primeiro conjunto (0.5, 0.5, 0.5) representa a média para cada canal de cor (vermelho, verde, azul, respectivamente), e o segundo conjunto (0.5, 0.5, 0.5) representa o desvio padrão para cada canal de cor. A fórmula para normalização é: `input[channel] = (input[channel] - mean[channel]) / std[channel]`. Isso coloca os valores dos pixels no intervalo de [-1, 1], o que é comum em redes neurais, ajudando no treinamento.\n",
    "\n",
    "Essas transformações são frequentemente aplicadas a conjuntos de dados de imagens antes de serem alimentadas em uma rede neural convolucional (CNN) no PyTorch. Isso garante que os dados estejam em um formato adequado e preparado para o treinamento da rede."
   ]
  },
  {
   "cell_type": "code",
   "execution_count": 5,
   "metadata": {},
   "outputs": [
    {
     "name": "stdout",
     "output_type": "stream",
     "text": [
      "Downloading https://www.cs.toronto.edu/~kriz/cifar-10-python.tar.gz to ./data/cifar-10-python.tar.gz\n"
     ]
    },
    {
     "name": "stderr",
     "output_type": "stream",
     "text": [
      "100%|██████████| 170498071/170498071 [01:20<00:00, 2118753.33it/s]\n"
     ]
    },
    {
     "name": "stdout",
     "output_type": "stream",
     "text": [
      "Extracting ./data/cifar-10-python.tar.gz to ./data\n",
      "Files already downloaded and verified\n"
     ]
    }
   ],
   "source": [
    "# load dataset. CIFAR10: 60000 32x32 color images in 10 classes, with 6000 images per class\n",
    "\n",
    "\n",
    "train_dataset = torchvision.datasets.CIFAR10(root='./data', train=True, download=True, transform=transform)  \n",
    "\n",
    "test_dataset = torchvision.datasets.CIFAR10(root='./data', train=False, download=True, transform=transform)\n",
    "\n",
    "train_loader = torch.utils.data.DataLoader(train_dataset, batch_size=batch_size, shuffle=True)  # shuffle for randomization\n",
    "\n",
    "test_loader = torch.utils.data.DataLoader(test_dataset, batch_size=batch_size, shuffle=False)  # shuffle for randomization\n",
    "\n",
    "classes = ('plane', 'car', 'bird', 'cat', 'deer', 'dog', 'frog', 'horse', 'ship', 'truck')  # 10 classes"
   ]
  },
  {
   "cell_type": "markdown",
   "metadata": {},
   "source": [
    "Explicando o código acima:\n",
    "\n",
    "Esse código é responsável por carregar o conjunto de dados CIFAR-10, dividindo-o em conjuntos de treinamento e teste, e preparando os dados para serem usados em lotes durante o treinamento e teste de uma CNN no PyTorch. Aqui está o que cada linha faz:\n",
    "\n",
    "1. `train_dataset = torchvision.datasets.CIFAR10(root='./data', train=True, download=True, transform=transform)`: Esta linha carrega o conjunto de dados CIFAR-10 para treinamento. Se o conjunto de dados não estiver presente no diretório especificado (./data), ele será baixado. Ele aplica as transformações definidas anteriormente (no caso, as transformações para conversão para tensores e normalização).\n",
    "\n",
    "2. `test_dataset = torchvision.datasets.CIFAR10(root='./data', train=False, download=True, transform=transform)`: Similar ao anterior, mas este carrega o conjunto de dados CIFAR-10 para teste. Ele também aplica as mesmas transformações.\n",
    "\n",
    "3. `train_loader = torch.utils.data.DataLoader(train_dataset, batch_size=batch_size, shuffle=True)`: Isso cria um DataLoader para o conjunto de treinamento. O DataLoader é útil para iterar pelos dados em lotes durante o treinamento da CNN. Ele divide os dados em lotes de tamanho `batch_size` e, ao definir `shuffle=True`, embaralha os dados a cada época para garantir uma melhor aleatoriedade durante o treinamento.\n",
    "\n",
    "4. `test_loader = torch.utils.data.DataLoader(test_dataset, batch_size=batch_size, shuffle=False)`: Similar ao `train_loader`, mas este é para o conjunto de teste. Ele não precisa embaralhar os dados, pois o conjunto de teste é usado para avaliação, não para treinamento.\n",
    "\n",
    "5. `classes = ('plane', 'car', 'bird', 'cat', 'deer', 'dog', 'frog', 'horse', 'ship', 'truck')`: Esta linha define uma tupla com os nomes das classes presentes no conjunto de dados CIFAR-10. Cada classe corresponde a uma categoria específica de imagens que estão no conjunto de dados.\n",
    "\n",
    "Esse código é um passo importante na preparação de conjuntos de dados para treinar e testar uma CNN usando o PyTorch, e esses conjuntos de dados agora estão prontos para serem usados para treinamento e avaliação de modelos de CNN."
   ]
  },
  {
   "cell_type": "code",
   "execution_count": 8,
   "metadata": {},
   "outputs": [
    {
     "data": {
      "image/png": "[encoded data removed]",
      "text/plain": [
       "<Figure size 640x480 with 1 Axes>"
      ]
     },
     "metadata": {},
     "output_type": "display_data"
    }
   ],
   "source": [
    "# show some images\n",
    "\n",
    "def imshow(img):  \n",
    "    img = img / 2 + 0.5  # unnormalize\n",
    "    npimg = img.numpy()  # convert to numpy array\n",
    "    plt.imshow(np.transpose(npimg, (1, 2, 0)))  # transpose to change axis order from (channels, height, width) to (height, width, channels)\n",
    "    plt.show()\n",
    "\n",
    "# get some random training images\n",
    "dataiter = iter(train_loader)\n",
    "images, labels = next(dataiter)\n",
    "\n",
    "\n",
    "# show images\n",
    "imshow(torchvision.utils.make_grid(images))"
   ]
  },
  {
   "cell_type": "markdown",
   "metadata": {},
   "source": [
    "Explicando o código acima:\n",
    "\n",
    "Esse bloco de código tem o objetivo de exibir algumas imagens do conjunto de dados CIFAR-10 antes de treinar o modelo. Vamos explicar o que cada parte do código faz:\n",
    "\n",
    "1. `def imshow(img):`: Isso define uma função chamada `imshow` que será usada para exibir imagens.\n",
    "\n",
    "2. `img = img / 2 + 0.5`: Essa linha reverte a normalização aplicada anteriormente. Ela desfaz o processo de normalização para que as imagens possam ser visualizadas corretamente.\n",
    "\n",
    "3. `npimg = img.numpy()`: Converte a imagem de um tensor do PyTorch para um array numpy. Isso é necessário para que a imagem possa ser mostrada com a biblioteca matplotlib.\n",
    "\n",
    "4. `plt.imshow(np.transpose(npimg, (1, 2, 0)))`: `plt.imshow` é usado para exibir a imagem. `np.transpose` é usado para alterar a ordem dos eixos da imagem de (canais, altura, largura) para (altura, largura, canais), que é o formato esperado pela função `imshow`.\n",
    "\n",
    "5. `plt.show()`: Mostra a imagem.\n",
    "\n",
    "6. `dataiter = iter(train_loader)`: Cria um iterador para percorrer os dados de treinamento em lotes.\n",
    "\n",
    "7. `images, labels = next(dataiter)`: Obtém um lote de imagens e seus rótulos do iterador.\n",
    "\n",
    "8. `imshow(torchvision.utils.make_grid(images))`: Chama a função `imshow` para mostrar um grid com várias imagens. `torchvision.utils.make_grid` cria um grid a partir do conjunto de imagens passado como argumento.\n",
    "\n",
    "Basicamente, esse bloco de código exibe uma grade de imagens do conjunto de dados de treinamento CIFAR-10, permitindo uma visualização rápida das imagens que serão usadas para treinar o modelo de CNN."
   ]
  },
  {
   "cell_type": "markdown",
   "metadata": {},
   "source": [
    "#### Implement the CNN architecture"
   ]
  },
  {
   "cell_type": "code",
   "execution_count": 9,
   "metadata": {},
   "outputs": [],
   "source": [
    "# implement CNN class\n",
    "\n",
    "class ConvNet(nn.Module):\n",
    "    def __init__(self):\n",
    "        super(ConvNet, self).__init__()\n",
    "        # 3 input image channel, 6 output channels, 5x5 square convolution kernel\n",
    "        self.conv1 = nn.Conv2d(3, 6, 5)  # 3 input channels for RGB\n",
    "        self.pool = nn.MaxPool2d(2, 2)  # max pooling over a (2, 2) window\n",
    "        self.conv2 = nn.Conv2d(6, 16, 5)  # 6 input channels for 6 output channels from previous layer\n",
    "        self.fc1 = nn.Linear(16 * 5 * 5, 120)  # 5x5 image dimension after 2 pooling layers\n",
    "        self.fc2 = nn.Linear(120, 84)\n",
    "        self.fc3 = nn.Linear(84, 10)  # 10 classes\n",
    "\n",
    "    def forward(self, x):\n",
    "        x = self.pool(F.relu(self.conv1(x)))  # 1st convolution layer, then ReLU activation, then pooling\n",
    "        x = self.pool(F.relu(self.conv2(x)))  # 2nd convolution layer, then ReLU activation, then pooling\n",
    "        x = x.view(-1, 16 * 5 * 5)  # reshape to 1D tensor\n",
    "        x = F.relu(self.fc1(x))  # 1st fully connected layer, then ReLU activation\n",
    "        x = F.relu(self.fc2(x))  # 2nd fully connected layer, then ReLU activation\n",
    "        x = self.fc3(x)  # 3rd fully connected layer\n",
    "        return x\n",
    "    \n",
    "model = ConvNet().to(device)"
   ]
  },
  {
   "cell_type": "markdown",
   "metadata": {},
   "source": [
    "Explicando o código acima:\n",
    "\n",
    "Esse é um código que define uma classe `ConvNet`, que representa a arquitetura de uma Convolutional Neural Network (CNN) no PyTorch. Aqui está o que cada parte do código faz:\n",
    "\n",
    "1. `class ConvNet(nn.Module):`: Define a classe `ConvNet` que herda da classe `nn.Module`, uma classe base para todos os módulos de redes neurais no PyTorch.\n",
    "\n",
    "2. `def __init__(self):`: O método `__init__` é o inicializador da classe `ConvNet`. Aqui são definidas as camadas da rede neural.\n",
    "\n",
    "   - `self.conv1 = nn.Conv2d(3, 6, 5)`: Primeira camada convolucional com 3 canais de entrada (para imagens RGB), 6 canais de saída e um kernel de convolução 5x5.\n",
    "   \n",
    "   - `self.pool = nn.MaxPool2d(2, 2)`: Camada de max pooling com uma janela de pooling de (2, 2).\n",
    "   \n",
    "   - `self.conv2 = nn.Conv2d(6, 16, 5)`: Segunda camada convolucional com 6 canais de entrada (do resultado da camada anterior) e 16 canais de saída, também com um kernel de convolução 5x5.\n",
    "   \n",
    "   - `self.fc1 = nn.Linear(16 * 5 * 5, 120)`: Camada totalmente conectada com 16x5x5 neurônios de entrada (resultado das camadas convolucionais) e 120 neurônios de saída.\n",
    "   \n",
    "   - `self.fc2 = nn.Linear(120, 84)`: Outra camada totalmente conectada com 120 neurônios de entrada e 84 neurônios de saída.\n",
    "   \n",
    "   - `self.fc3 = nn.Linear(84, 10)`: Última camada totalmente conectada com 84 neurônios de entrada (resultado da camada anterior) e 10 neurônios de saída, correspondendo às 10 classes do conjunto de dados CIFAR-10.\n",
    "   \n",
    "3. `def forward(self, x):`: Define o método `forward` que descreve como os dados são passados pela rede.\n",
    "\n",
    "   - `x = self.pool(F.relu(self.conv1(x)))`: Passa os dados de entrada `x` pela primeira camada convolucional, aplica a função de ativação ReLU e em seguida aplica max pooling.\n",
    "   \n",
    "   - `x = self.pool(F.relu(self.conv2(x)))`: Similar ao passo anterior, mas usando a segunda camada convolucional.\n",
    "   \n",
    "   - `x = x.view(-1, 16 * 5 * 5)`: Redimensiona os dados para um vetor unidimensional.\n",
    "   \n",
    "   - `x = F.relu(self.fc1(x))`: Passa os dados pela primeira camada totalmente conectada e aplica a função de ativação ReLU.\n",
    "   \n",
    "   - `x = F.relu(self.fc2(x))`: Similar ao passo anterior, mas usando a segunda camada totalmente conectada.\n",
    "   \n",
    "   - `x = self.fc3(x)`: Última camada totalmente conectada, que retorna as previsões para cada classe.\n",
    "\n",
    "4. `model = ConvNet().to(device)`: Cria uma instância da classe `ConvNet` e a move para o dispositivo de computação especificado (por exemplo, CPU ou GPU). Isso cria o modelo da CNN que será treinado usando os dados CIFAR-10 que você carregou anteriormente.\n",
    "\n",
    "Este código define a arquitetura básica de uma CNN no PyTorch, com camadas convolucionais, camadas de pooling e camadas totalmente conectadas."
   ]
  },
  {
   "cell_type": "markdown",
   "metadata": {},
   "source": [
    "#### Loss and optimizer"
   ]
  },
  {
   "cell_type": "code",
   "execution_count": 10,
   "metadata": {},
   "outputs": [],
   "source": [
    "# loss and optimizer\n",
    "\n",
    "criterion = nn.CrossEntropyLoss()  # loss function\n",
    "optimizer = torch.optim.SGD(model.parameters(), lr=learning_rate)  # stochastic gradient descent"
   ]
  },
  {
   "cell_type": "markdown",
   "metadata": {},
   "source": [
    "Explicando o código acima:\n",
    "\n",
    "Esse trecho de código define a função de perda (loss function) e o otimizador para o treinamento da CNN. Aqui está o que cada linha faz:\n",
    "\n",
    "1. `criterion = nn.CrossEntropyLoss()`: Isso define a função de perda que será usada para calcular o quão bem o modelo está performando durante o treinamento. No caso, está sendo utilizada a função de perda de entropia cruzada (Cross Entropy Loss), comumente usada em problemas de classificação multiclasse como o CIFAR-10.\n",
    "\n",
    "2. `optimizer = torch.optim.SGD(model.parameters(), lr=learning_rate)`: Isso define o otimizador que será usado para atualizar os pesos da rede durante o treinamento. Neste caso, está sendo utilizado o otimizador SGD (Stochastic Gradient Descent) com os parâmetros do modelo (`model.parameters()`). O parâmetro `lr=learning_rate` define a taxa de aprendizado (learning rate), que controla o tamanho dos passos dados durante a atualização dos pesos.\n",
    "\n",
    "Juntos, esses dois elementos são essenciais para treinar uma rede neural. A função de perda é usada para calcular o quão distantes as previsões do modelo estão das classes reais, enquanto o otimizador é responsável por ajustar os pesos da rede de acordo com essa informação de erro, na direção que melhore o desempenho do modelo."
   ]
  },
  {
   "cell_type": "markdown",
   "metadata": {},
   "source": [
    "#### Train the model"
   ]
  },
  {
   "cell_type": "code",
   "execution_count": 11,
   "metadata": {},
   "outputs": [
    {
     "name": "stdout",
     "output_type": "stream",
     "text": [
      "epoch 1 / 4, step 2000 / 12500, loss = 2.2734\n",
      "epoch 1 / 4, step 4000 / 12500, loss = 2.3290\n",
      "epoch 1 / 4, step 6000 / 12500, loss = 2.2854\n",
      "epoch 1 / 4, step 8000 / 12500, loss = 2.2703\n",
      "epoch 1 / 4, step 10000 / 12500, loss = 2.1871\n",
      "epoch 1 / 4, step 12000 / 12500, loss = 2.3377\n",
      "epoch 2 / 4, step 2000 / 12500, loss = 2.1094\n",
      "epoch 2 / 4, step 4000 / 12500, loss = 1.8312\n",
      "epoch 2 / 4, step 6000 / 12500, loss = 2.2434\n",
      "epoch 2 / 4, step 8000 / 12500, loss = 1.7664\n",
      "epoch 2 / 4, step 10000 / 12500, loss = 1.1636\n",
      "epoch 2 / 4, step 12000 / 12500, loss = 1.2319\n",
      "epoch 3 / 4, step 2000 / 12500, loss = 1.5587\n",
      "epoch 3 / 4, step 4000 / 12500, loss = 1.3368\n",
      "epoch 3 / 4, step 6000 / 12500, loss = 2.3199\n",
      "epoch 3 / 4, step 8000 / 12500, loss = 1.4576\n",
      "epoch 3 / 4, step 10000 / 12500, loss = 1.9081\n",
      "epoch 3 / 4, step 12000 / 12500, loss = 2.3345\n",
      "epoch 4 / 4, step 2000 / 12500, loss = 1.2938\n",
      "epoch 4 / 4, step 4000 / 12500, loss = 1.1430\n",
      "epoch 4 / 4, step 6000 / 12500, loss = 1.5750\n",
      "epoch 4 / 4, step 8000 / 12500, loss = 1.3986\n",
      "epoch 4 / 4, step 10000 / 12500, loss = 0.7545\n",
      "epoch 4 / 4, step 12000 / 12500, loss = 1.5982\n"
     ]
    }
   ],
   "source": [
    "# training loop\n",
    "\n",
    "n_total_steps = len(train_loader)\n",
    "\n",
    "for epoch in range(num_epochs):\n",
    "    for i, (images, labels) in enumerate(train_loader):  \n",
    "        # origin shape: [4, 3, 32, 32] = 4, 3, 1024\n",
    "        # input_layer: 3 input channels, 6 output channels, 5x5 kernel\n",
    "        images = images.to(device)\n",
    "        labels = labels.to(device)\n",
    "        \n",
    "        # forward pass\n",
    "        outputs = model(images)\n",
    "        loss = criterion(outputs, labels)  # calculate loss\n",
    "        \n",
    "        # backward pass\n",
    "        optimizer.zero_grad()  # zero out gradients\n",
    "        loss.backward()  # backpropagation\n",
    "        optimizer.step()  # update weights\n",
    "        \n",
    "        if (i+1) % 2000 == 0:\n",
    "            print(f'epoch {epoch+1} / {num_epochs}, step {i+1} / {n_total_steps}, loss = {loss.item():.4f}')\n",
    "\n",
    "print('Finished training')"
   ]
  },
  {
   "cell_type": "markdown",
   "metadata": {},
   "source": [
    "Explicando o código acima:\n",
    "\n",
    "Este código representa um loop de treinamento para a rede neural. Aqui está o que cada parte faz:\n",
    "\n",
    "1. `n_total_steps = len(train_loader)`: Calcula o número total de lotes (batches) no conjunto de treinamento. Isso será usado para determinar o progresso durante o treinamento.\n",
    "\n",
    "2. O loop externo `for epoch in range(num_epochs):` é responsável por iterar sobre o número de épocas definidas para o treinamento da rede. Cada época significa passar por todo o conjunto de dados de treinamento uma vez.\n",
    "\n",
    "3. O loop interno `for i, (images, labels) in enumerate(train_loader):` percorre cada lote no conjunto de dados de treinamento.\n",
    "\n",
    "   - `images = images.to(device)` e `labels = labels.to(device)`: Move os dados de entrada e rótulos para o dispositivo de computação (CPU ou GPU) especificado.\n",
    "   \n",
    "   - `outputs = model(images)`: Realiza a passagem direta (forward pass) dos dados pela rede neural para obter as previsões.\n",
    "   \n",
    "   - `loss = criterion(outputs, labels)`: Calcula a perda (loss) comparando as previsões da rede (`outputs`) com os rótulos reais (`labels`), usando a função de perda (no caso, a Cross Entropy Loss).\n",
    "   \n",
    "   - `optimizer.zero_grad()`: Zera os gradientes existentes antes de fazer a retropropagação (backpropagation) para evitar acumulação de gradientes de iterações anteriores.\n",
    "   \n",
    "   - `loss.backward()`: Realiza a retropropagação para calcular os gradientes de cada peso em relação à perda.\n",
    "   \n",
    "   - `optimizer.step()`: Atualiza os pesos da rede neural com base nos gradientes calculados durante a retropropagação, utilizando o otimizador SGD.\n",
    "   \n",
    "   - `if (i+1) % 2000 == 0:`: A cada 2000 passos, imprime informações sobre a época atual, o número do passo, o número total de passos por época e a perda atual.\n",
    "   \n",
    "4. Depois que todas as épocas e passos foram percorridos, a mensagem 'Finished training' é exibida para indicar que o treinamento foi concluído.\n",
    "\n",
    "Esse é o processo de treinamento de uma rede neural, onde os pesos são ajustados iterativamente com o objetivo de minimizar a perda e melhorar o desempenho do modelo na tarefa de classificação."
   ]
  },
  {
   "cell_type": "markdown",
   "metadata": {},
   "source": [
    "#### Test the model"
   ]
  },
  {
   "cell_type": "code",
   "execution_count": 12,
   "metadata": {},
   "outputs": [
    {
     "name": "stdout",
     "output_type": "stream",
     "text": [
      "accuracy of the network: 46.97 %\n",
      "accuracy of plane: 38.4 %\n",
      "accuracy of car: 59.2 %\n",
      "accuracy of bird: 26.5 %\n",
      "accuracy of cat: 32.8 %\n",
      "accuracy of deer: 33.9 %\n",
      "accuracy of dog: 43.2 %\n",
      "accuracy of frog: 67.0 %\n",
      "accuracy of horse: 55.3 %\n",
      "accuracy of ship: 54.5 %\n",
      "accuracy of truck: 58.9 %\n"
     ]
    }
   ],
   "source": [
    "# test the model\n",
    "\n",
    "with torch.no_grad():  # no need to calculate gradients\n",
    "    n_correct = 0\n",
    "    n_samples = 0\n",
    "    n_class_correct = [0 for i in range(10)]  # 10 classes\n",
    "    n_class_samples = [0 for i in range(10)]  # 10 classes\n",
    "    for images, labels in test_loader:\n",
    "        images = images.to(device)\n",
    "        labels = labels.to(device)\n",
    "        outputs = model(images)  # get predictions\n",
    "        # max returns (value, index)\n",
    "        _, predicted = torch.max(outputs, 1)  # get predicted class\n",
    "        n_samples += labels.size(0)  # number of samples\n",
    "        n_correct += (predicted == labels).sum().item()  # number of correct predictions\n",
    "        \n",
    "        for i in range(batch_size):\n",
    "            label = labels[i]  # get label\n",
    "            pred = predicted[i]  # get prediction\n",
    "            if (label == pred):\n",
    "                n_class_correct[label] += 1  # number of correct predictions for this class\n",
    "            n_class_samples[label] += 1  # number of samples for this class\n",
    "\n",
    "    acc = 100.0 * n_correct / n_samples  # accuracy\n",
    "    print(f'accuracy of the network: {acc} %')\n",
    "\n",
    "    for i in range(10):\n",
    "        acc = 100.0 * n_class_correct[i] / n_class_samples[i]  # accuracy for each class\n",
    "        print(f'accuracy of {classes[i]}: {acc} %')"
   ]
  },
  {
   "cell_type": "markdown",
   "metadata": {},
   "source": [
    "Explicando o código acima:\n",
    "\n",
    "Este código é usado para testar o modelo treinado com os dados de teste, avaliando sua precisão (accuracy) e sua precisão por classe. Aqui está o que cada parte do código faz:\n",
    "\n",
    "1. `with torch.no_grad():`: Este é um contexto do PyTorch que desabilita o cálculo automático de gradientes. Durante a fase de teste, não precisamos calcular gradientes, apenas fazer previsões.\n",
    "\n",
    "2. `n_correct = 0` e `n_samples = 0`: Variáveis para acompanhar o número total de previsões corretas e o número total de amostras.\n",
    "\n",
    "3. `n_class_correct = [0 for i in range(10)]` e `n_class_samples = [0 for i in range(10)]`: Listas para rastrear o número de previsões corretas e o número total de amostras para cada uma das 10 classes no conjunto de dados CIFAR-10.\n",
    "\n",
    "4. O loop `for images, labels in test_loader:` itera sobre os lotes do conjunto de dados de teste.\n",
    "\n",
    "   - `outputs = model(images)`: Obtém as previsões do modelo para as imagens de entrada.\n",
    "   \n",
    "   - `_, predicted = torch.max(outputs, 1)`: Determina as classes previstas ao encontrar o índice do valor máximo nas previsões.\n",
    "   \n",
    "   - O código conta o número total de previsões corretas e atualiza as contagens para cada classe.\n",
    "\n",
    "5. Depois de passar por todos os dados de teste, calcula a precisão geral do modelo (`accuracy`) e a precisão por classe, usando as contagens de previsões corretas e o número total de amostras.\n",
    "\n",
    "6. Finalmente, imprime a precisão geral do modelo e a precisão por classe para cada uma das 10 classes do conjunto de dados CIFAR-10.\n",
    "\n",
    "Esse processo avalia o desempenho do modelo treinado com os dados de teste, fornecendo uma visão detalhada da precisão geral e da precisão por classe."
   ]
  },
  {
   "cell_type": "code",
   "execution_count": null,
   "metadata": {},
   "outputs": [],
   "source": []
  },
  {
   "cell_type": "markdown",
   "metadata": {},
   "source": [
    "# All the code"
   ]
  },
  {
   "cell_type": "code",
   "execution_count": 13,
   "metadata": {},
   "outputs": [
    {
     "name": "stdout",
     "output_type": "stream",
     "text": [
      "Files already downloaded and verified\n",
      "Files already downloaded and verified\n"
     ]
    },
    {
     "data": {
      "image/png": "[encoded data removed]",
      "text/plain": [
       "<Figure size 640x480 with 1 Axes>"
      ]
     },
     "metadata": {},
     "output_type": "display_data"
    },
    {
     "name": "stdout",
     "output_type": "stream",
     "text": [
      "Epoch [1/5], Step [2000/12500], Loss: 2.2839\n",
      "Epoch [1/5], Step [4000/12500], Loss: 2.3106\n",
      "Epoch [1/5], Step [6000/12500], Loss: 2.2864\n",
      "Epoch [1/5], Step [8000/12500], Loss: 2.2840\n",
      "Epoch [1/5], Step [10000/12500], Loss: 2.2653\n",
      "Epoch [1/5], Step [12000/12500], Loss: 2.1090\n",
      "Epoch [2/5], Step [2000/12500], Loss: 2.0844\n",
      "Epoch [2/5], Step [4000/12500], Loss: 1.8709\n",
      "Epoch [2/5], Step [6000/12500], Loss: 1.6801\n",
      "Epoch [2/5], Step [8000/12500], Loss: 1.4865\n",
      "Epoch [2/5], Step [10000/12500], Loss: 1.3206\n",
      "Epoch [2/5], Step [12000/12500], Loss: 1.4283\n",
      "Epoch [3/5], Step [2000/12500], Loss: 2.0987\n",
      "Epoch [3/5], Step [4000/12500], Loss: 1.7448\n",
      "Epoch [3/5], Step [6000/12500], Loss: 1.9590\n",
      "Epoch [3/5], Step [8000/12500], Loss: 1.0289\n",
      "Epoch [3/5], Step [10000/12500], Loss: 1.7644\n",
      "Epoch [3/5], Step [12000/12500], Loss: 1.1950\n",
      "Epoch [4/5], Step [2000/12500], Loss: 1.5557\n",
      "Epoch [4/5], Step [4000/12500], Loss: 1.4308\n",
      "Epoch [4/5], Step [6000/12500], Loss: 1.1640\n",
      "Epoch [4/5], Step [8000/12500], Loss: 1.4948\n",
      "Epoch [4/5], Step [10000/12500], Loss: 1.7356\n",
      "Epoch [4/5], Step [12000/12500], Loss: 1.2506\n",
      "Epoch [5/5], Step [2000/12500], Loss: 1.1039\n",
      "Epoch [5/5], Step [4000/12500], Loss: 1.8956\n",
      "Epoch [5/5], Step [6000/12500], Loss: 2.0955\n",
      "Epoch [5/5], Step [8000/12500], Loss: 1.5007\n",
      "Epoch [5/5], Step [10000/12500], Loss: 1.4355\n",
      "Epoch [5/5], Step [12000/12500], Loss: 1.4338\n",
      "Finished Training\n",
      "Accuracy of the network: 50.2 %\n",
      "Accuracy of plane: 55.7 %\n",
      "Accuracy of car: 51.4 %\n",
      "Accuracy of bird: 47.0 %\n",
      "Accuracy of cat: 30.5 %\n",
      "Accuracy of deer: 23.6 %\n",
      "Accuracy of dog: 48.5 %\n",
      "Accuracy of frog: 64.4 %\n",
      "Accuracy of horse: 54.4 %\n",
      "Accuracy of ship: 69.8 %\n",
      "Accuracy of truck: 56.7 %\n"
     ]
    }
   ],
   "source": [
    "import torch\n",
    "import torch.nn as nn\n",
    "import torch.nn.functional as F\n",
    "import torchvision\n",
    "import torchvision.transforms as transforms\n",
    "import matplotlib.pyplot as plt\n",
    "import numpy as np\n",
    "\n",
    "# Device configuration\n",
    "device = torch.device('cuda' if torch.cuda.is_available() else 'cpu')\n",
    "\n",
    "# Hyper-parameters \n",
    "num_epochs = 5\n",
    "batch_size = 4\n",
    "learning_rate = 0.001\n",
    "\n",
    "# dataset has PILImage images of range [0, 1]. \n",
    "# We transform them to Tensors of normalized range [-1, 1]\n",
    "transform = transforms.Compose(\n",
    "    [transforms.ToTensor(),\n",
    "     transforms.Normalize((0.5, 0.5, 0.5), (0.5, 0.5, 0.5))])\n",
    "\n",
    "# CIFAR10: 60000 32x32 color images in 10 classes, with 6000 images per class\n",
    "train_dataset = torchvision.datasets.CIFAR10(root='./data', train=True,\n",
    "                                        download=True, transform=transform)\n",
    "\n",
    "test_dataset = torchvision.datasets.CIFAR10(root='./data', train=False,\n",
    "                                       download=True, transform=transform)\n",
    "\n",
    "train_loader = torch.utils.data.DataLoader(train_dataset, batch_size=batch_size,\n",
    "                                          shuffle=True)\n",
    "\n",
    "test_loader = torch.utils.data.DataLoader(test_dataset, batch_size=batch_size,\n",
    "                                         shuffle=False)\n",
    "\n",
    "classes = ('plane', 'car', 'bird', 'cat',\n",
    "           'deer', 'dog', 'frog', 'horse', 'ship', 'truck')\n",
    "\n",
    "def imshow(img):\n",
    "    img = img / 2 + 0.5  # unnormalize\n",
    "    npimg = img.numpy()\n",
    "    plt.imshow(np.transpose(npimg, (1, 2, 0)))\n",
    "    plt.show()\n",
    "\n",
    "\n",
    "# get some random training images\n",
    "dataiter = iter(train_loader)\n",
    "images, labels = next(dataiter)\n",
    "\n",
    "# show images\n",
    "imshow(torchvision.utils.make_grid(images))\n",
    "\n",
    "class ConvNet(nn.Module):\n",
    "    def __init__(self):\n",
    "        super(ConvNet, self).__init__()\n",
    "        self.conv1 = nn.Conv2d(3, 6, 5)\n",
    "        self.pool = nn.MaxPool2d(2, 2)\n",
    "        self.conv2 = nn.Conv2d(6, 16, 5)\n",
    "        self.fc1 = nn.Linear(16 * 5 * 5, 120)\n",
    "        self.fc2 = nn.Linear(120, 84)\n",
    "        self.fc3 = nn.Linear(84, 10)\n",
    "\n",
    "    def forward(self, x):\n",
    "        # -> n, 3, 32, 32\n",
    "        x = self.pool(F.relu(self.conv1(x)))  # -> n, 6, 14, 14\n",
    "        x = self.pool(F.relu(self.conv2(x)))  # -> n, 16, 5, 5\n",
    "        x = x.view(-1, 16 * 5 * 5)            # -> n, 400\n",
    "        x = F.relu(self.fc1(x))               # -> n, 120\n",
    "        x = F.relu(self.fc2(x))               # -> n, 84\n",
    "        x = self.fc3(x)                       # -> n, 10\n",
    "        return x\n",
    "\n",
    "\n",
    "model = ConvNet().to(device)\n",
    "\n",
    "criterion = nn.CrossEntropyLoss()\n",
    "optimizer = torch.optim.SGD(model.parameters(), lr=learning_rate)\n",
    "\n",
    "n_total_steps = len(train_loader)\n",
    "for epoch in range(num_epochs):\n",
    "    for i, (images, labels) in enumerate(train_loader):\n",
    "        # origin shape: [4, 3, 32, 32] = 4, 3, 1024\n",
    "        # input_layer: 3 input channels, 6 output channels, 5 kernel size\n",
    "        images = images.to(device)\n",
    "        labels = labels.to(device)\n",
    "\n",
    "        # Forward pass\n",
    "        outputs = model(images)\n",
    "        loss = criterion(outputs, labels)\n",
    "\n",
    "        # Backward and optimize\n",
    "        optimizer.zero_grad()\n",
    "        loss.backward()\n",
    "        optimizer.step()\n",
    "\n",
    "        if (i+1) % 2000 == 0:\n",
    "            print (f'Epoch [{epoch+1}/{num_epochs}], Step [{i+1}/{n_total_steps}], Loss: {loss.item():.4f}')\n",
    "\n",
    "print('Finished Training')\n",
    "\n",
    "with torch.no_grad():\n",
    "    n_correct = 0\n",
    "    n_samples = 0\n",
    "    n_class_correct = [0 for i in range(10)]\n",
    "    n_class_samples = [0 for i in range(10)]\n",
    "    for images, labels in test_loader:\n",
    "        images = images.to(device)\n",
    "        labels = labels.to(device)\n",
    "        outputs = model(images)\n",
    "        # max returns (value ,index)\n",
    "        _, predicted = torch.max(outputs, 1)\n",
    "        n_samples += labels.size(0)\n",
    "        n_correct += (predicted == labels).sum().item()\n",
    "        \n",
    "        for i in range(batch_size):\n",
    "            label = labels[i]\n",
    "            pred = predicted[i]\n",
    "            if (label == pred):\n",
    "                n_class_correct[label] += 1\n",
    "            n_class_samples[label] += 1\n",
    "\n",
    "    acc = 100.0 * n_correct / n_samples\n",
    "    print(f'Accuracy of the network: {acc} %')\n",
    "\n",
    "    for i in range(10):\n",
    "        acc = 100.0 * n_class_correct[i] / n_class_samples[i]\n",
    "        print(f'Accuracy of {classes[i]}: {acc} %')"
   ]
  },
  {
   "cell_type": "markdown",
   "metadata": {},
   "source": []
  }
 ],
 "metadata": {
  "kernelspec": {
   "display_name": "Python 3",
   "language": "python",
   "name": "python3"
  },
  "language_info": {
   "codemirror_mode": {
    "name": "ipython",
    "version": 3
   },
   "file_extension": ".py",
   "mimetype": "text/x-python",
   "name": "python",
   "nbconvert_exporter": "python",
   "pygments_lexer": "ipython3",
   "version": "3.10.12"
  }
 },
 "nbformat": 4,
 "nbformat_minor": 2
}
